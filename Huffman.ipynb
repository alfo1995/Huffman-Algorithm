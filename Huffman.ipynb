{
 "cells": [
  {
   "cell_type": "markdown",
   "metadata": {},
   "source": [
    "# Huffman Coding"
   ]
  },
  {
   "cell_type": "markdown",
   "metadata": {},
   "source": [
    "This algorithm is very used in texts and based on the frequency of letters in words, for example it will be easier to find the letter A than the letter Z, so attempted to encode the letters more frequently, such as A, with shorter binary codes than those used for Z, in this way the most frequent letters in a text are replaced by shorter bit codes."
   ]
  },
  {
   "cell_type": "markdown",
   "metadata": {},
   "source": [
    "Let's see a simple example:\n",
    "\n",
    "'$CIAO\\space MAMMA$'\n",
    "\n",
    "In the normal way each letter is represented by 8 bits encoded respecting the **ASCII** code, so:\n",
    "\n",
    "$A = 01000001$\n",
    "\n",
    "$C = 01000011$\n",
    "\n",
    "$I = 01001001$\n",
    "\n",
    "$O = 01001111$\n",
    "\n",
    "$M = 01001101$\n",
    "\n",
    "$'\\space' = 00100000$\n",
    "\n",
    "\n",
    "Our file will be composed of 80 bits, that is 10 letters * 8 bits..."
   ]
  },
  {
   "cell_type": "markdown",
   "metadata": {},
   "source": [
    "With Huffman Coding we want construct a tree in which the most frequent letters are positioned closer to the root than those with less frequency.\n",
    "So first count the frequency of each letter in our string and finds the lower 2 (in our example C and I), these will be used to construct the new node at the base of the tree.\n",
    "These letters will be represented from now on as a single letter and with a frequency that will be the sum of their frequencies.\n",
    "Repeat this mechanism until our tree is complete, now a bit must be associated with each node.\n",
    "It is possible to associate the 0 to all the nodes on the left and 1 to all those on the right (or the opposite in an equivalent way)"
   ]
  },
  {
   "cell_type": "markdown",
   "metadata": {},
   "source": [
    "So we find that:\n",
    "\n",
    "$A= 10$\n",
    "\n",
    "$C= 000$\n",
    "\n",
    "$I= 001$\n",
    "\n",
    "$O= 010$\n",
    "\n",
    "$M= 11$\n",
    "\n",
    "$'\\space'= 001$"
   ]
  },
  {
   "cell_type": "markdown",
   "metadata": {},
   "source": [
    "If we want to write our $\\Rightarrow$ '$CIAO\\space MAMMA$' with the new codes we will obtain the following sequence of bits:\n",
    "\n",
    "**Hauffman bit** $=000001100100111110111110$\n",
    "\n",
    "Only $24$ **bits out of the 80 used previously** with the **ASCII** code."
   ]
  },
  {
   "cell_type": "markdown",
   "metadata": {},
   "source": [
    "### Now let's see what happens with a larger file \n",
    "$n$ $\\rightarrow$ $from\\space input$"
   ]
  },
  {
   "cell_type": "code",
   "execution_count": 4,
   "metadata": {},
   "outputs": [],
   "source": [
    "import math\n",
    "import matplotlib.pyplot as plt"
   ]
  },
  {
   "cell_type": "code",
   "execution_count": 33,
   "metadata": {},
   "outputs": [],
   "source": [
    "n = int(input(\"enter the number of char: \"))"
   ]
  },
  {
   "cell_type": "code",
   "execution_count": 34,
   "metadata": {},
   "outputs": [
    {
     "name": "stdout",
     "output_type": "stream",
     "text": [
      "This is the number of char that we took from input from the text: 90 out of 731\n",
      "\n",
      "This is the text: \n",
      " \n",
      "Two roads diverged in a yellow wood,\n",
      "And sorry I could not travel both\n",
      "And be one traveler\n",
      "\n",
      " \n",
      "This is the Hauffman code result: \n",
      " \n",
      " Char | Prob  | Huffman code \n",
      "-----------------------------\n",
      " ' '  | 0.166667 |          110\n",
      " 'o'  | 0.111111 |          011\n",
      " 'e'  | 0.088889 |          001\n",
      " 'r'  | 0.077778 |         1110\n",
      " 'd'  | 0.077778 |         1011\n",
      " 'n'  | 0.055556 |         1000\n",
      " 'l'  | 0.055556 |         0101\n",
      " 'a'  | 0.044444 |         0100\n",
      " 't'  | 0.044444 |        11111\n",
      " 'w'  | 0.033333 |        10100\n",
      " 'v'  | 0.033333 |        10011\n",
      " 's'  | 0.022222 |       101011\n",
      " 'i'  | 0.022222 |       101010\n",
      " 'y'  | 0.022222 |        00001\n",
      " '\\n' | 0.022222 |        00000\n",
      " 'A'  | 0.022222 |        00011\n",
      " 'b'  | 0.022222 |        00010\n",
      " 'T'  | 0.011111 |       100100\n",
      " 'g'  | 0.011111 |      1001011\n",
      " ','  | 0.011111 |      1001010\n",
      " 'I'  | 0.011111 |      1111001\n",
      " 'c'  | 0.011111 |      1111000\n",
      " 'u'  | 0.011111 |      1111011\n",
      " 'h'  | 0.011111 |      1111010\n",
      "\n",
      "Hash bit: 720\n",
      "Huffman bit: 373.0\n",
      "Percentage of space recovered with Huffman:  52%\n"
     ]
    }
   ],
   "source": [
    "entropy_list=[] \n",
    "space=[]\n",
    "L_list=[] #sum of pi * li (number of bit for each char)\n",
    "\n",
    "\n",
    "def open_text(url):\n",
    "    text=''\n",
    "    with open(url,'r') as file:\n",
    "        text=file.read()\n",
    "    return text[0:n]\n",
    "\n",
    "'''create simple class to generate children and parents of tree'''\n",
    "class NodeTree(object):\n",
    "    def __init__(self, left=None, right=None):\n",
    "        self.left = left\n",
    "        self.right = right\n",
    "\n",
    "    def children(self):\n",
    "        return (self.left, self.right)\n",
    "\n",
    "    def nodes(self):\n",
    "        return (self.left, self.right)\n",
    "\n",
    "    def __str__(self):\n",
    "        return \"%s_%s\" % (self.left, self.right)\n",
    "\n",
    "\n",
    "'''create hauffman tree thanks with a dictionary'''\n",
    "def huffmanCodeTree(node, left=True, binString=\"\"):\n",
    "    if type(node) is str:\n",
    "        return {node: binString}\n",
    "    (l, r) = node.children()\n",
    "    d = dict()\n",
    "    d.update(huffmanCodeTree(l, True, binString + \"0\"))\n",
    "    d.update(huffmanCodeTree(r, False, binString + \"1\"))\n",
    "    return d\n",
    "\n",
    "\n",
    "string=open_text('/Users/alfonsodamelio/Desktop/DATA SCIENCE/2°SEMESTRE/Data monitoring (MATLAB)/HW2/text_Huffman.txt')\n",
    "\n",
    "'''for each char we compute frequency '''\n",
    "freq = {}\n",
    "for c in string:\n",
    "    if c in freq:\n",
    "        freq[c] += 1\n",
    "    else:\n",
    "        freq[c] = 1\n",
    "'''compute probability for each char thanks to frequency above computed'''\n",
    "prob=[i/n for i in freq.values()]\n",
    "char=[i for i in freq.keys()]\n",
    "\n",
    "'''create dictionary with this structure ----> {char:probability}'''\n",
    "freq=dict(zip(char,prob))\n",
    "\n",
    "'''computed entropy for each char'''\n",
    "entropy=-(sum([k * math.log2(k) for k in freq.values()]))\n",
    "\n",
    "''' in freq we have all the couple---> (char,probability) order by probability in a descending order'''\n",
    "freq = sorted(freq.items(), key=lambda x: (x[1]), reverse=True)\n",
    "\n",
    "list_nodes = freq\n",
    "\n",
    "#let's execute Huffman algorithm\n",
    "'''\n",
    "1- order list in a descending order\n",
    "2- take the two char with lower probability and create two children in the tree\n",
    "3- join them in a single char with probability equal to the sum of their probability and create parent in the tree\n",
    "4- remove from list the two elements take in step 2 and add the parent create in step 3\n",
    "5- do this until length of list is greater than 1\n",
    "'''\n",
    "while len(list_nodes) > 1:\n",
    "    \n",
    "    #take the last two objects of the list_nodes\n",
    "    char1, prob1 = list_nodes[-1]\n",
    "    char2, prob2 = list_nodes[-2]\n",
    "    \n",
    "    #remove these two objects from list_nodes\n",
    "    list_nodes = list_nodes[:-2]\n",
    "    \n",
    "    #with the class object we create parents and children of the tree.\n",
    "    node = NodeTree(char1, char2)\n",
    "    #add parents to list_nodes\n",
    "    list_nodes.append((node, prob1 + prob2))\n",
    "    # sort again the list\n",
    "    list_nodes = sorted(list_nodes, key=lambda x: x[1], reverse=True)\n",
    "\n",
    "#Apply Huffman Tree on list_nodes\n",
    "huffmanCode = huffmanCodeTree(list_nodes[0][0])\n",
    "\n",
    "\n",
    "print('This is the number of char that we took from input from the text: '+str(n)+' out of 731')\n",
    "print('\\nThis is the text: \\n \\n'+string)\n",
    "#let's print Huffman code...\n",
    "print('\\n \\nThis is the Hauffman code result: \\n ')\n",
    "print (\" Char | Prob  | Huffman code \")\n",
    "print (\"-----------------------------\")\n",
    "hauffman_bit=0\n",
    "prob_times_lengthchar=[] #sum of pi * li(length of bit of each char)\n",
    "for char, frequency in freq:\n",
    "    print (\" %-4r | %f | %12s\" % (char, frequency, huffmanCode[char]))\n",
    "    hauffman_bit+=len(huffmanCode[char])*frequency*n\n",
    "    prob_times_lengthchar.append(len(huffmanCode[char])*frequency)\n",
    "\n",
    "\n",
    "L=sum(prob_times_lengthchar)\n",
    "L_list.append(L)\n",
    "entropy_list.append(entropy)\n",
    "\n",
    "hash_bit=n*8\n",
    "save_space=(hauffman_bit/hash_bit)*100\n",
    "\n",
    "print('\\nHash bit: '+str(hash_bit))\n",
    "print('Huffman bit: '+str(hauffman_bit))\n",
    "print('Percentage of space recovered with Huffman: ',str(round(save_space))+'%')\n",
    "\n"
   ]
  },
  {
   "cell_type": "markdown",
   "metadata": {},
   "source": [
    "# Let's try for a list of number of char"
   ]
  },
  {
   "cell_type": "code",
   "execution_count": 6,
   "metadata": {},
   "outputs": [],
   "source": [
    "input_number=list(map(int, input(\"enter a list of number of char: \").split())) #731 max length\n",
    "# 10 50 200 731"
   ]
  },
  {
   "cell_type": "code",
   "execution_count": 14,
   "metadata": {},
   "outputs": [],
   "source": [
    "entropy_list=[]\n",
    "space=[]\n",
    "L_list=[]\n",
    "\n",
    "for n in input_number:\n",
    "    \n",
    "    string=open_text('/Users/alfonsodamelio/Desktop/DATA SCIENCE/2°SEMESTRE/Data monitoring (MATLAB)/HW2/text_Huffman.txt')\n",
    "    \n",
    "    freq = {}\n",
    "    for c in string:\n",
    "        if c in freq:\n",
    "            freq[c] += 1\n",
    "        else:\n",
    "            freq[c] = 1\n",
    "    \n",
    "    prob=[i/n for i in freq.values()]\n",
    "    char=[i for i in freq.keys()]   \n",
    "    freq=dict(zip(char,prob))\n",
    "    \n",
    "    #entropy formula -sum(pi*log2(pi))\n",
    "    entropy=-(sum([k * math.log2(k) for k in freq.values()]))\n",
    "    \n",
    "    #Sort the frequency table based on occurrence this will also convert the\n",
    "    #dict to a list of tuples\n",
    "    freq = sorted(freq.items(), key=lambda x: (x[1]), reverse=True)\n",
    "\n",
    "    \n",
    "    list_nodes = freq\n",
    "    \n",
    "    while len(list_nodes) > 1:\n",
    "        #take the last two objects of the list_nodes\n",
    "        char1, prob1 = list_nodes[-1]\n",
    "        char2, prob2 = list_nodes[-2]\n",
    "\n",
    "        #remove these two objects from list_nodes\n",
    "        list_nodes = list_nodes[:-2]\n",
    "\n",
    "        #with the class object we create parents and children of the tree.\n",
    "        node = NodeTree(char1, char2)\n",
    "        #add parents to list_nodes\n",
    "        list_nodes.append((node, prob1 + prob2))\n",
    "        # sort again the list\n",
    "        list_nodes = sorted(list_nodes, key=lambda x: x[1], reverse=True)\n",
    "    \n",
    "    #Apply Huffman Tree on list_nodes\n",
    "    huffmanCode = huffmanCodeTree(list_nodes[0][0])\n",
    "    \n",
    "    prob_times_lengthchar=[] \n",
    "    hauffman_bit=0\n",
    "    for char, frequency in freq:\n",
    "        hauffman_bit+=len(huffmanCode[char])*frequency*n\n",
    "        prob_times_lengthchar.append(len(huffmanCode[char])*frequency)\n",
    "    \n",
    "    L=sum(prob_times_lengthchar) #sum of pi * li(length of bit of each char)\n",
    "    L_list.append(L)\n",
    "    hash_bit=n*8\n",
    "    save_space=100-(hauffman_bit/hash_bit)*100\n",
    "    space.append(100-save_space)\n",
    "    \n",
    "    entropy_list.append(entropy)\n",
    "    \n",
    "    values=[]\n",
    "    for i in range(len(entropy_list)):\n",
    "        value=L_list[i]/entropy_list[i]\n",
    "        # L(n) / entropy\n",
    "        values.append(value)"
   ]
  },
  {
   "cell_type": "markdown",
   "metadata": {},
   "source": [
    "In the plot below we show  how as the number of char increases, the saving percentage over the original message with **Hauffman** increases, we compute the following calculation:\n",
    "\n",
    "$save_{space}=\\bigg(100-\\frac{Hauffman_{bit}}{Hash_{bit}}\\bigg)\\cdot 100$\n",
    "\n",
    "So it means that:\n",
    "\n",
    "+ if we choose 10 like number of char the saving percentage over the original message will be of $69\\%$\n",
    "+ if we choose 100 like number of char the the saving percentage over the original message will be of $85\\%$"
   ]
  },
  {
   "cell_type": "code",
   "execution_count": 15,
   "metadata": {},
   "outputs": [
    {
     "data": {
      "image/png": "[encoded data removed]",
      "text/plain": [
       "<matplotlib.figure.Figure at 0x11b9a6e10>"
      ]
     },
     "metadata": {},
     "output_type": "display_data"
    }
   ],
   "source": [
    "import seaborn as sns\n",
    "sns.set_style('whitegrid')\n",
    "plt.plot(input_number,space,color='red')\n",
    "plt.title('Trend of the saving percentage \\n over the original message')\n",
    "plt.xlabel('number of char')\n",
    "plt.ylabel('percentage of saving')\n",
    "plt.show()"
   ]
  },
  {
   "cell_type": "markdown",
   "metadata": {},
   "source": [
    "At this point we are able to display another plot which represents the relationship between:\n",
    "+  $\\tilde{L}_n$\n",
    "+  $H(S_n)$\n",
    "\n",
    "Where:\n",
    "1. $\\tilde{L}_n=\\sum_{i=1}^n p_i \\cdot l_i$ \n",
    "    \n",
    "    + $i=char_i$\n",
    "    + $p=\\frac{frequence(char_i)}{\\text{n° of tot.char}}$\n",
    "    + $l_i$ $\\rightarrow$ length in **Hauffman** bit of $char_i$\n",
    " \n",
    "2. $H(S_n)=-\\sum_{i=1}^n p_i \\cdot log_2(p_i)$ "
   ]
  },
  {
   "cell_type": "code",
   "execution_count": 19,
   "metadata": {},
   "outputs": [
    {
     "data": {
      "image/png": "[encoded data removed]",
      "text/plain": [
       "<matplotlib.figure.Figure at 0x11b9d2f28>"
      ]
     },
     "metadata": {},
     "output_type": "display_data"
    }
   ],
   "source": [
    "sns.set_style('whitegrid')\n",
    "plt.plot(input_number,values)\n",
    "plt.ylim(0.95,1.1)\n",
    "plt.title(r'$\\tilde L_n /H(S_n)$',fontsize=14)\n",
    "plt.xlabel('number of char')\n",
    "plt.axhline(1, color='r')\n",
    "plt.show()"
   ]
  }
 ],
 "metadata": {
  "kernelspec": {
   "display_name": "Python 3",
   "language": "python",
   "name": "python3"
  },
  "language_info": {
   "codemirror_mode": {
    "name": "ipython",
    "version": 3
   },
   "file_extension": ".py",
   "mimetype": "text/x-python",
   "name": "python",
   "nbconvert_exporter": "python",
   "pygments_lexer": "ipython3",
   "version": "3.6.1"
  }
 },
 "nbformat": 4,
 "nbformat_minor": 2
}
